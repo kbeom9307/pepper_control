{
 "cells": [
  {
   "cell_type": "code",
   "execution_count": null,
   "metadata": {},
   "outputs": [],
   "source": [
    "You've added another git repository inside your current repository.\n",
    "Clones of the outer repository will not contain the contents of\n",
    "the embedded repository and will not know how to obtain it.\n",
    "If you meant to add a submodule, use:\n",
    "git submodule add <url> python_pepper_kinematics\n",
    "If you added this path by mistake, you can remove it from the\n",
    "index with:\n",
    "git rm --cached python_pepper_kinematics\n",
    "See \"git help submodule\" for more information."
   ]
  }
 ],
 "metadata": {
  "kernelspec": {
   "display_name": "Python 2",
   "language": "python",
   "name": "python2"
  },
  "language_info": {
   "codemirror_mode": {
    "name": "ipython",
    "version": 2
   },
   "file_extension": ".py",
   "mimetype": "text/x-python",
   "name": "python",
   "nbconvert_exporter": "python",
   "pygments_lexer": "ipython2",
   "version": "2.7.15"
  }
 },
 "nbformat": 4,
 "nbformat_minor": 2
}
